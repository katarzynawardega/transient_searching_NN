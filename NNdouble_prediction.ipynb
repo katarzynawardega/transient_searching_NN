{
 "cells": [
  {
   "cell_type": "code",
   "execution_count": 1,
   "metadata": {},
   "outputs": [
    {
     "name": "stderr",
     "output_type": "stream",
     "text": [
      "Using TensorFlow backend.\n"
     ]
    }
   ],
   "source": [
    "import matplotlib.pyplot as plt\n",
    "%matplotlib inline\n",
    "\n",
    "import sep\n",
    "import math\n",
    "import keras\n",
    "from keras.utils import np_utils\n",
    "from keras.models import load_model\n",
    "\n",
    "import numpy as np\n",
    "from astropy.io import fits\n",
    "\n",
    "import random \n",
    "import aplpy\n",
    "\n",
    "\n",
    "from sklearn.metrics import accuracy_score\n",
    "from sklearn.metrics import precision_score\n",
    "from sklearn.metrics import recall_score\n",
    "from sklearn.metrics import f1_score\n",
    "from sklearn.metrics import confusion_matrix\n",
    "\n",
    "np.random.seed(123)  # for reproducibility"
   ]
  },
  {
   "cell_type": "markdown",
   "metadata": {},
   "source": [
    "DOWNLOADING CNN MODEL "
   ]
  },
  {
   "cell_type": "code",
   "execution_count": 2,
   "metadata": {},
   "outputs": [
    {
     "name": "stdout",
     "output_type": "stream",
     "text": [
      "WARNING:tensorflow:From /home/kasiawardega/anaconda3/lib/python3.7/site-packages/tensorflow/python/ops/math_grad.py:1250: add_dispatch_support.<locals>.wrapper (from tensorflow.python.ops.array_ops) is deprecated and will be removed in a future version.\n",
      "Instructions for updating:\n",
      "Use tf.where in 2.0, which has the same broadcast rule as np.where\n",
      "WARNING:tensorflow:From /home/kasiawardega/anaconda3/lib/python3.7/site-packages/keras/backend/tensorflow_backend.py:422: The name tf.global_variables is deprecated. Please use tf.compat.v1.global_variables instead.\n",
      "\n"
     ]
    }
   ],
   "source": [
    "model = load_model(\"NNdouble.h5\")"
   ]
  },
  {
   "cell_type": "code",
   "execution_count": 3,
   "metadata": {},
   "outputs": [
    {
     "name": "stdout",
     "output_type": "stream",
     "text": [
      "Model: \"model_1\"\n",
      "__________________________________________________________________________________________________\n",
      "Layer (type)                    Output Shape         Param #     Connected to                     \n",
      "==================================================================================================\n",
      "input_1 (InputLayer)            (None, 21, 21)       0                                            \n",
      "__________________________________________________________________________________________________\n",
      "input_2 (InputLayer)            (None, 21, 21)       0                                            \n",
      "__________________________________________________________________________________________________\n",
      "dense_1 (Dense)                 (None, 21, 64)       1408        input_1[0][0]                    \n",
      "__________________________________________________________________________________________________\n",
      "dense_5 (Dense)                 (None, 21, 64)       1408        input_2[0][0]                    \n",
      "__________________________________________________________________________________________________\n",
      "dense_2 (Dense)                 (None, 21, 32)       2080        dense_1[0][0]                    \n",
      "__________________________________________________________________________________________________\n",
      "dense_6 (Dense)                 (None, 21, 32)       2080        dense_5[0][0]                    \n",
      "__________________________________________________________________________________________________\n",
      "dense_3 (Dense)                 (None, 21, 8)        264         dense_2[0][0]                    \n",
      "__________________________________________________________________________________________________\n",
      "dense_7 (Dense)                 (None, 21, 8)        264         dense_6[0][0]                    \n",
      "__________________________________________________________________________________________________\n",
      "dense_4 (Dense)                 (None, 21, 4)        36          dense_3[0][0]                    \n",
      "__________________________________________________________________________________________________\n",
      "dense_8 (Dense)                 (None, 21, 4)        36          dense_7[0][0]                    \n",
      "__________________________________________________________________________________________________\n",
      "concatenate_1 (Concatenate)     (None, 21, 8)        0           dense_4[0][0]                    \n",
      "                                                                 dense_8[0][0]                    \n",
      "__________________________________________________________________________________________________\n",
      "flatten_1 (Flatten)             (None, 168)          0           concatenate_1[0][0]              \n",
      "__________________________________________________________________________________________________\n",
      "dense_9 (Dense)                 (None, 128)          21632       flatten_1[0][0]                  \n",
      "__________________________________________________________________________________________________\n",
      "dense_10 (Dense)                (None, 64)           8256        dense_9[0][0]                    \n",
      "__________________________________________________________________________________________________\n",
      "dense_11 (Dense)                (None, 2)            130         dense_10[0][0]                   \n",
      "==================================================================================================\n",
      "Total params: 37,594\n",
      "Trainable params: 37,594\n",
      "Non-trainable params: 0\n",
      "__________________________________________________________________________________________________\n"
     ]
    }
   ],
   "source": [
    "model.summary()"
   ]
  },
  {
   "cell_type": "markdown",
   "metadata": {},
   "source": [
    "DOWNLOADING DATA"
   ]
  },
  {
   "cell_type": "code",
   "execution_count": 4,
   "metadata": {},
   "outputs": [],
   "source": [
    "data_galaxy = np.load('datasets/galaxy_ic4559_images_scaled.npy')\n",
    "labels_galaxy = np.load('datasets/galaxy_ic4559_labels_scaled.npy')"
   ]
  },
  {
   "cell_type": "markdown",
   "metadata": {},
   "source": [
    "PREDICTION"
   ]
  },
  {
   "cell_type": "code",
   "execution_count": 5,
   "metadata": {},
   "outputs": [],
   "source": [
    "def prediction (data, labels):\n",
    "    dataA = data[:,:,:,0]\n",
    "    dataB = data[:,:,:,1]\n",
    "    labels_predict = model.predict([dataA,dataB])\n",
    "    labels_predict2 = np.argmax(labels_predict, axis=-1)\n",
    "    \n",
    "    metrics = []\n",
    "    \n",
    "    metrics.append(accuracy_score(labels, labels_predict2))\n",
    "    metrics.append(precision_score(labels, labels_predict2))\n",
    "    metrics.append(recall_score(labels, labels_predict2))\n",
    "    metrics.append(f1_score(labels, labels_predict2))\n",
    "    \n",
    "    acc = accuracy_score(labels, labels_predict2)\n",
    "    conf_mat = confusion_matrix(labels, labels_predict2)\n",
    "    \n",
    "    return metrics, conf_mat"
   ]
  },
  {
   "cell_type": "code",
   "execution_count": 6,
   "metadata": {},
   "outputs": [],
   "source": [
    "dataA = data_galaxy[:,:,:,0]\n",
    "dataB = data_galaxy[:,:,:,1]\n",
    "\n",
    "labels_predict = model.predict([dataA,dataB])"
   ]
  },
  {
   "cell_type": "code",
   "execution_count": 7,
   "metadata": {},
   "outputs": [],
   "source": [
    "labels_predict2 = np.argmax(labels_predict, axis=-1)"
   ]
  },
  {
   "cell_type": "code",
   "execution_count": 8,
   "metadata": {},
   "outputs": [
    {
     "data": {
      "text/plain": [
       "0.99375"
      ]
     },
     "execution_count": 8,
     "metadata": {},
     "output_type": "execute_result"
    }
   ],
   "source": [
    "accuracy_score(labels_galaxy, labels_predict2)"
   ]
  },
  {
   "cell_type": "code",
   "execution_count": 9,
   "metadata": {},
   "outputs": [
    {
     "data": {
      "text/plain": [
       "array([[317,   3],\n",
       "       [  1, 319]])"
      ]
     },
     "execution_count": 9,
     "metadata": {},
     "output_type": "execute_result"
    }
   ],
   "source": [
    "confusion_matrix(labels_galaxy, labels_predict2)"
   ]
  },
  {
   "cell_type": "code",
   "execution_count": 21,
   "metadata": {},
   "outputs": [
    {
     "name": "stdout",
     "output_type": "stream",
     "text": [
      "[[317   3]\n",
      " [  1 319]] 0.99375\n"
     ]
    }
   ],
   "source": [
    "acc, mat = prediction(data_galaxy, labels_galaxy)\n",
    "print(mat,acc)"
   ]
  },
  {
   "cell_type": "code",
   "execution_count": 6,
   "metadata": {},
   "outputs": [
    {
     "name": "stdout",
     "output_type": "stream",
     "text": [
      "[[387  23]\n",
      " [  5 405]] [0.9658536585365853, 0.9462616822429907, 0.9878048780487805, 0.9665871121718377]\n"
     ]
    }
   ],
   "source": [
    "data_galaxy_pgc21577 = np.load('datasets/galaxy_pgc21577_images_scaled.npy')\n",
    "labels_galaxy_pgc21577 = np.load('datasets/galaxy_pgc21577_labels_scaled.npy')\n",
    "accuracy2, matrix2 = prediction(data_galaxy_pgc21577, labels_galaxy_pgc21577)\n",
    "print(matrix2,accuracy2)"
   ]
  },
  {
   "cell_type": "code",
   "execution_count": 7,
   "metadata": {},
   "outputs": [
    {
     "name": "stdout",
     "output_type": "stream",
     "text": [
      "[[331  15]\n",
      " [  5 341]] [0.9710982658959537, 0.9578651685393258, 0.9855491329479769, 0.9715099715099714]\n"
     ]
    }
   ],
   "source": [
    "data_galaxy_pgc21708 = np.load('datasets/galaxy_pgc21708_images_scaled.npy')\n",
    "labels_galaxy_pgc21708 = np.load('datasets/galaxy_pgc21708_labels_scaled.npy')\n",
    "accuracy3, matrix3 = prediction(data_galaxy_pgc21708, labels_galaxy_pgc21708)\n",
    "print(matrix3,accuracy3)\n"
   ]
  },
  {
   "cell_type": "code",
   "execution_count": 8,
   "metadata": {},
   "outputs": [
    {
     "name": "stdout",
     "output_type": "stream",
     "text": [
      "[[296  32]\n",
      " [  0 328]] [0.9512195121951219, 0.9111111111111111, 1.0, 0.9534883720930233]\n"
     ]
    }
   ],
   "source": [
    "data_galaxy_pgc21747 = np.load('datasets/galaxy_pgc21747_images_scaled.npy')\n",
    "labels_galaxy_pgc21747 = np.load('datasets/galaxy_pgc21747_labels_scaled.npy')\n",
    "accuracy4, matrix4 = prediction(data_galaxy_pgc21747, labels_galaxy_pgc21747)\n",
    "print(matrix4, accuracy4)"
   ]
  },
  {
   "cell_type": "code",
   "execution_count": 9,
   "metadata": {},
   "outputs": [
    {
     "name": "stdout",
     "output_type": "stream",
     "text": [
      "[[264  17]\n",
      " [  2 279]] [0.9661921708185054, 0.9425675675675675, 0.9928825622775801, 0.9670710571923743]\n"
     ]
    }
   ],
   "source": [
    "data_galaxy_pgc21856 = np.load('datasets/galaxy_pgc21856_images_scaled.npy')\n",
    "labels_galaxy_pgc21856 = np.load('datasets/galaxy_pgc21856_labels_scaled.npy')\n",
    "accuracy5, matrix5 = prediction(data_galaxy_pgc21856, labels_galaxy_pgc21856)\n",
    "print(matrix5, accuracy5)"
   ]
  },
  {
   "cell_type": "code",
   "execution_count": 10,
   "metadata": {},
   "outputs": [],
   "source": [
    "def merging_datasets(d1,l1,d2,l2,d3,l3,d4,l4,d5,l5):\n",
    "    \n",
    "           \n",
    "    dataset = np.append(d1,d2, axis=0)\n",
    "    dataset2 = np.append(dataset,d3, axis=0)\n",
    "    dataset3 = np.append(dataset2,d4, axis=0)\n",
    "    dataset4 = np.append(dataset3,d5, axis=0)\n",
    "\n",
    "    labels = np.append(l1,l2, axis=0)\n",
    "    labels2 = np.append(labels,l3, axis=0)\n",
    "    labels3 = np.append(labels2,l4, axis=0)\n",
    "    labels4 = np.append(labels3,l5, axis=0)\n",
    "    \n",
    "    \n",
    "    return dataset4, labels4"
   ]
  },
  {
   "cell_type": "code",
   "execution_count": 11,
   "metadata": {},
   "outputs": [],
   "source": [
    "data, lab = merging_datasets(data_galaxy, labels_galaxy, data_galaxy_pgc21577, labels_galaxy_pgc21577, data_galaxy_pgc21708, labels_galaxy_pgc21708, data_galaxy_pgc21747, labels_galaxy_pgc21747, data_galaxy_pgc21856, labels_galaxy_pgc21856)"
   ]
  },
  {
   "cell_type": "code",
   "execution_count": 16,
   "metadata": {},
   "outputs": [
    {
     "name": "stdout",
     "output_type": "stream",
     "text": [
      "([0.9694362017804155, 0.9489216799091941, 0.9922848664688427, 0.9701189440092833], array([[1595,   90],\n",
      "       [  13, 1672]]))\n"
     ]
    }
   ],
   "source": [
    "print(prediction(data, lab))"
   ]
  },
  {
   "cell_type": "code",
   "execution_count": 30,
   "metadata": {},
   "outputs": [
    {
     "data": {
      "text/plain": [
       "(3370, 21, 21, 2)"
      ]
     },
     "execution_count": 30,
     "metadata": {},
     "output_type": "execute_result"
    }
   ],
   "source": [
    "data.shape"
   ]
  },
  {
   "cell_type": "code",
   "execution_count": 12,
   "metadata": {},
   "outputs": [],
   "source": [
    "dataA = data[:,:,:,0]\n",
    "dataB = data[:,:,:,1]\n",
    "labels_predict = model.predict([dataA,dataB])"
   ]
  },
  {
   "cell_type": "code",
   "execution_count": 21,
   "metadata": {},
   "outputs": [],
   "source": [
    "labels_predict.shape\n",
    "labels_predict2 = np.argmax(labels_predict, axis=-1)"
   ]
  },
  {
   "cell_type": "code",
   "execution_count": 18,
   "metadata": {},
   "outputs": [],
   "source": [
    "lab2 = np_utils.to_categorical(lab)"
   ]
  },
  {
   "cell_type": "code",
   "execution_count": 19,
   "metadata": {},
   "outputs": [
    {
     "data": {
      "text/plain": [
       "(array([1685.,    0.,    0.,    0.,    0.,    0.,    0.,    0.,    0.,\n",
       "           0.,    0.,    0.,    0.,    0.,    0.,    0.,    0.,    0.,\n",
       "           0.,    0.,    0.,    0.,    0.,    0.,    0.,    0.,    0.,\n",
       "           0.,    0.,    0.,    0.,    0.,    0.,    0.,    0.,    0.,\n",
       "           0.,    0.,    0.,    0.,    0.,    0.,    0.,    0.,    0.,\n",
       "           0.,    0.,    0.,    0., 1685.]),\n",
       " array([0.  , 0.02, 0.04, 0.06, 0.08, 0.1 , 0.12, 0.14, 0.16, 0.18, 0.2 ,\n",
       "        0.22, 0.24, 0.26, 0.28, 0.3 , 0.32, 0.34, 0.36, 0.38, 0.4 , 0.42,\n",
       "        0.44, 0.46, 0.48, 0.5 , 0.52, 0.54, 0.56, 0.58, 0.6 , 0.62, 0.64,\n",
       "        0.66, 0.68, 0.7 , 0.72, 0.74, 0.76, 0.78, 0.8 , 0.82, 0.84, 0.86,\n",
       "        0.88, 0.9 , 0.92, 0.94, 0.96, 0.98, 1.  ], dtype=float32),\n",
       " <a list of 50 Patch objects>)"
      ]
     },
     "execution_count": 19,
     "metadata": {},
     "output_type": "execute_result"
    },
    {
     "data": {
      "image/png": "[encoded data removed]",
      "text/plain": [
       "<Figure size 432x288 with 1 Axes>"
      ]
     },
     "metadata": {
      "needs_background": "light"
     },
     "output_type": "display_data"
    }
   ],
   "source": [
    "plt.hist(lab2[:,0], bins = 50)"
   ]
  },
  {
   "cell_type": "code",
   "execution_count": 20,
   "metadata": {},
   "outputs": [
    {
     "data": {
      "text/plain": [
       "(array([1685.,    0.,    0.,    0.,    0.,    0.,    0.,    0.,    0.,\n",
       "           0.,    0.,    0.,    0.,    0.,    0.,    0.,    0.,    0.,\n",
       "           0.,    0.,    0.,    0.,    0.,    0.,    0.,    0.,    0.,\n",
       "           0.,    0.,    0.,    0.,    0.,    0.,    0.,    0.,    0.,\n",
       "           0.,    0.,    0.,    0.,    0.,    0.,    0.,    0.,    0.,\n",
       "           0.,    0.,    0.,    0., 1685.]),\n",
       " array([0.  , 0.02, 0.04, 0.06, 0.08, 0.1 , 0.12, 0.14, 0.16, 0.18, 0.2 ,\n",
       "        0.22, 0.24, 0.26, 0.28, 0.3 , 0.32, 0.34, 0.36, 0.38, 0.4 , 0.42,\n",
       "        0.44, 0.46, 0.48, 0.5 , 0.52, 0.54, 0.56, 0.58, 0.6 , 0.62, 0.64,\n",
       "        0.66, 0.68, 0.7 , 0.72, 0.74, 0.76, 0.78, 0.8 , 0.82, 0.84, 0.86,\n",
       "        0.88, 0.9 , 0.92, 0.94, 0.96, 0.98, 1.  ], dtype=float32),\n",
       " <a list of 50 Patch objects>)"
      ]
     },
     "execution_count": 20,
     "metadata": {},
     "output_type": "execute_result"
    },
    {
     "data": {
      "image/png": "[encoded data removed]",
      "text/plain": [
       "<Figure size 432x288 with 1 Axes>"
      ]
     },
     "metadata": {
      "needs_background": "light"
     },
     "output_type": "display_data"
    }
   ],
   "source": [
    "plt.hist(lab2[:,1], bins = 50)"
   ]
  },
  {
   "cell_type": "code",
   "execution_count": 16,
   "metadata": {},
   "outputs": [
    {
     "data": {
      "text/plain": [
       "(array([1.747e+03, 0.000e+00, 2.000e+00, 3.000e+00, 0.000e+00, 1.000e+00,\n",
       "        0.000e+00, 0.000e+00, 0.000e+00, 4.000e+00, 0.000e+00, 0.000e+00,\n",
       "        0.000e+00, 1.000e+00, 0.000e+00, 1.000e+00, 0.000e+00, 1.000e+00,\n",
       "        0.000e+00, 0.000e+00, 0.000e+00, 1.000e+00, 1.000e+00, 0.000e+00,\n",
       "        0.000e+00, 0.000e+00, 0.000e+00, 0.000e+00, 0.000e+00, 0.000e+00,\n",
       "        0.000e+00, 0.000e+00, 1.000e+00, 1.000e+00, 0.000e+00, 0.000e+00,\n",
       "        0.000e+00, 0.000e+00, 0.000e+00, 1.000e+00, 1.000e+00, 0.000e+00,\n",
       "        0.000e+00, 1.000e+00, 1.000e+00, 0.000e+00, 1.000e+00, 3.000e+00,\n",
       "        5.000e+00, 1.593e+03]),\n",
       " array([0.  , 0.02, 0.04, 0.06, 0.08, 0.1 , 0.12, 0.14, 0.16, 0.18, 0.2 ,\n",
       "        0.22, 0.24, 0.26, 0.28, 0.3 , 0.32, 0.34, 0.36, 0.38, 0.4 , 0.42,\n",
       "        0.44, 0.46, 0.48, 0.5 , 0.52, 0.54, 0.56, 0.58, 0.6 , 0.62, 0.64,\n",
       "        0.66, 0.68, 0.7 , 0.72, 0.74, 0.76, 0.78, 0.8 , 0.82, 0.84, 0.86,\n",
       "        0.88, 0.9 , 0.92, 0.94, 0.96, 0.98, 1.  ], dtype=float32),\n",
       " <a list of 50 Patch objects>)"
      ]
     },
     "execution_count": 16,
     "metadata": {},
     "output_type": "execute_result"
    },
    {
     "data": {
      "image/png": "[encoded data removed]",
      "text/plain": [
       "<Figure size 432x288 with 1 Axes>"
      ]
     },
     "metadata": {
      "needs_background": "light"
     },
     "output_type": "display_data"
    }
   ],
   "source": [
    "plt.hist(labels_predict[:,0], bins = 50)"
   ]
  },
  {
   "cell_type": "code",
   "execution_count": 15,
   "metadata": {},
   "outputs": [
    {
     "data": {
      "text/plain": [
       "(array([1.593e+03, 5.000e+00, 3.000e+00, 1.000e+00, 0.000e+00, 1.000e+00,\n",
       "        1.000e+00, 0.000e+00, 0.000e+00, 1.000e+00, 1.000e+00, 0.000e+00,\n",
       "        0.000e+00, 0.000e+00, 0.000e+00, 0.000e+00, 1.000e+00, 1.000e+00,\n",
       "        0.000e+00, 0.000e+00, 0.000e+00, 0.000e+00, 0.000e+00, 0.000e+00,\n",
       "        0.000e+00, 0.000e+00, 0.000e+00, 1.000e+00, 1.000e+00, 0.000e+00,\n",
       "        0.000e+00, 0.000e+00, 1.000e+00, 0.000e+00, 1.000e+00, 0.000e+00,\n",
       "        1.000e+00, 0.000e+00, 0.000e+00, 0.000e+00, 4.000e+00, 0.000e+00,\n",
       "        0.000e+00, 0.000e+00, 1.000e+00, 0.000e+00, 3.000e+00, 2.000e+00,\n",
       "        0.000e+00, 1.747e+03]),\n",
       " array([0.  , 0.02, 0.04, 0.06, 0.08, 0.1 , 0.12, 0.14, 0.16, 0.18, 0.2 ,\n",
       "        0.22, 0.24, 0.26, 0.28, 0.3 , 0.32, 0.34, 0.36, 0.38, 0.4 , 0.42,\n",
       "        0.44, 0.46, 0.48, 0.5 , 0.52, 0.54, 0.56, 0.58, 0.6 , 0.62, 0.64,\n",
       "        0.66, 0.68, 0.7 , 0.72, 0.74, 0.76, 0.78, 0.8 , 0.82, 0.84, 0.86,\n",
       "        0.88, 0.9 , 0.92, 0.94, 0.96, 0.98, 1.  ], dtype=float32),\n",
       " <a list of 50 Patch objects>)"
      ]
     },
     "execution_count": 15,
     "metadata": {},
     "output_type": "execute_result"
    },
    {
     "data": {
      "image/png": "[encoded data removed]",
      "text/plain": [
       "<Figure size 432x288 with 1 Axes>"
      ]
     },
     "metadata": {
      "needs_background": "light"
     },
     "output_type": "display_data"
    }
   ],
   "source": [
    "plt.hist(labels_predict[:,1], bins = 50)"
   ]
  },
  {
   "cell_type": "code",
   "execution_count": 41,
   "metadata": {},
   "outputs": [
    {
     "name": "stdout",
     "output_type": "stream",
     "text": [
      "28\n",
      "0.0\n",
      "295\n",
      "0.0\n",
      "314\n",
      "0.0\n",
      "528\n",
      "1.0\n",
      "642\n",
      "0.0\n",
      "643\n",
      "0.0\n",
      "656\n",
      "0.0\n",
      "657\n",
      "0.0\n",
      "663\n",
      "0.0\n",
      "667\n",
      "0.0\n",
      "674\n",
      "0.0\n",
      "680\n",
      "0.0\n",
      "686\n",
      "0.0\n",
      "717\n",
      "0.0\n",
      "744\n",
      "0.0\n",
      "766\n",
      "0.0\n",
      "769\n",
      "0.0\n",
      "818\n",
      "0.0\n",
      "828\n",
      "0.0\n",
      "839\n",
      "0.0\n",
      "842\n",
      "0.0\n",
      "843\n",
      "0.0\n",
      "847\n",
      "0.0\n",
      "858\n",
      "0.0\n",
      "866\n",
      "0.0\n",
      "887\n",
      "0.0\n",
      "1024\n",
      "0.0\n",
      "1205\n",
      "1.0\n",
      "1309\n",
      "1.0\n",
      "1364\n",
      "1.0\n",
      "1383\n",
      "1.0\n",
      "1398\n",
      "1.0\n",
      "1466\n",
      "0.0\n",
      "1489\n",
      "0.0\n",
      "1495\n",
      "0.0\n",
      "1525\n",
      "0.0\n",
      "1531\n",
      "0.0\n",
      "1562\n",
      "0.0\n",
      "1577\n",
      "0.0\n",
      "1597\n",
      "0.0\n",
      "1639\n",
      "0.0\n",
      "1745\n",
      "0.0\n",
      "1788\n",
      "0.0\n",
      "1792\n",
      "0.0\n",
      "1793\n",
      "0.0\n",
      "1794\n",
      "0.0\n",
      "1804\n",
      "0.0\n",
      "1829\n",
      "1.0\n",
      "1889\n",
      "1.0\n",
      "1952\n",
      "1.0\n",
      "2033\n",
      "1.0\n",
      "2134\n",
      "1.0\n",
      "2154\n",
      "0.0\n",
      "2156\n",
      "0.0\n",
      "2157\n",
      "0.0\n",
      "2159\n",
      "0.0\n",
      "2164\n",
      "0.0\n",
      "2166\n",
      "0.0\n",
      "2170\n",
      "0.0\n",
      "2172\n",
      "0.0\n",
      "2185\n",
      "0.0\n",
      "2187\n",
      "0.0\n",
      "2195\n",
      "0.0\n",
      "2200\n",
      "0.0\n",
      "2201\n",
      "0.0\n",
      "2207\n",
      "0.0\n",
      "2209\n",
      "0.0\n",
      "2213\n",
      "0.0\n",
      "2219\n",
      "0.0\n",
      "2222\n",
      "0.0\n",
      "2224\n",
      "0.0\n",
      "2227\n",
      "0.0\n",
      "2228\n",
      "0.0\n",
      "2237\n",
      "0.0\n",
      "2240\n",
      "0.0\n",
      "2299\n",
      "0.0\n",
      "2405\n",
      "0.0\n",
      "2436\n",
      "0.0\n",
      "2437\n",
      "0.0\n",
      "2441\n",
      "0.0\n",
      "2449\n",
      "0.0\n",
      "2452\n",
      "0.0\n",
      "2457\n",
      "0.0\n",
      "2478\n",
      "0.0\n",
      "2814\n",
      "0.0\n",
      "2816\n",
      "0.0\n",
      "2819\n",
      "0.0\n",
      "2820\n",
      "0.0\n",
      "2822\n",
      "0.0\n",
      "2846\n",
      "0.0\n",
      "2878\n",
      "0.0\n",
      "2895\n",
      "0.0\n",
      "2959\n",
      "0.0\n",
      "2987\n",
      "0.0\n",
      "3010\n",
      "0.0\n",
      "3022\n",
      "0.0\n",
      "3052\n",
      "0.0\n",
      "3063\n",
      "0.0\n",
      "3064\n",
      "0.0\n",
      "3066\n",
      "0.0\n",
      "3086\n",
      "0.0\n",
      "3132\n",
      "1.0\n",
      "3226\n",
      "1.0\n"
     ]
    }
   ],
   "source": [
    "for i in range(len(lab)):\n",
    "    if lab[i]!=labels_predict2[i]:\n",
    "        print(i)\n",
    "        print(lab[i])"
   ]
  },
  {
   "cell_type": "code",
   "execution_count": 52,
   "metadata": {},
   "outputs": [
    {
     "data": {
      "text/plain": [
       "0.0"
      ]
     },
     "execution_count": 52,
     "metadata": {},
     "output_type": "execute_result"
    }
   ],
   "source": [
    "lab[3052]"
   ]
  },
  {
   "cell_type": "code",
   "execution_count": 53,
   "metadata": {},
   "outputs": [
    {
     "data": {
      "image/png": "[encoded data removed]",
      "text/plain": [
       "<Figure size 720x216 with 4 Axes>"
      ]
     },
     "metadata": {
      "needs_background": "light"
     },
     "output_type": "display_data"
    }
   ],
   "source": [
    "f = plt.figure(figsize=(10,3))\n",
    "ax = f.add_subplot(121)\n",
    "ax2 = f.add_subplot(122)    \n",
    "fig_1 = ax.imshow(data[3052,:,:,0], cmap='gray')\n",
    "fig_2 = ax2.imshow(data[3052,:,:,1], cmap='gray')\n",
    "\n",
    "f.colorbar(fig_1, ax=ax)\n",
    "f.colorbar(fig_2, ax=ax2)\n",
    "\n",
    "plt.savefig('pictures/NNerror2.png')"
   ]
  },
  {
   "cell_type": "code",
   "execution_count": 46,
   "metadata": {},
   "outputs": [
    {
     "data": {
      "text/plain": [
       "0"
      ]
     },
     "execution_count": 46,
     "metadata": {},
     "output_type": "execute_result"
    }
   ],
   "source": [
    "labels_predict2[528]"
   ]
  },
  {
   "cell_type": "code",
   "execution_count": null,
   "metadata": {},
   "outputs": [],
   "source": []
  }
 ],
 "metadata": {
  "kernelspec": {
   "display_name": "Python 3",
   "language": "python",
   "name": "python3"
  },
  "language_info": {
   "codemirror_mode": {
    "name": "ipython",
    "version": 3
   },
   "file_extension": ".py",
   "mimetype": "text/x-python",
   "name": "python",
   "nbconvert_exporter": "python",
   "pygments_lexer": "ipython3",
   "version": "3.7.3"
  }
 },
 "nbformat": 4,
 "nbformat_minor": 2
}
