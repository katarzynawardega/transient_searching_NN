{
 "cells": [
  {
   "cell_type": "code",
   "execution_count": 2,
   "metadata": {},
   "outputs": [
    {
     "name": "stderr",
     "output_type": "stream",
     "text": [
      "Using TensorFlow backend.\n"
     ]
    }
   ],
   "source": [
    "import matplotlib.pyplot as plt\n",
    "%matplotlib inline\n",
    "\n",
    "import sep\n",
    "import math\n",
    "import keras\n",
    "from keras.utils import np_utils\n",
    "from keras.models import load_model\n",
    "\n",
    "import numpy as np\n",
    "from astropy.io import fits\n",
    "\n",
    "import random \n",
    "import aplpy\n",
    "\n",
    "\n",
    "from sklearn.metrics import accuracy_score\n",
    "from sklearn.metrics import precision_score\n",
    "from sklearn.metrics import recall_score\n",
    "from sklearn.metrics import f1_score\n",
    "\n",
    "from sklearn.metrics import confusion_matrix\n",
    "\n",
    "np.random.seed(123)  # for reproducibility"
   ]
  },
  {
   "cell_type": "markdown",
   "metadata": {},
   "source": [
    "DOWNLOADING CNN MODEL "
   ]
  },
  {
   "cell_type": "code",
   "execution_count": 4,
   "metadata": {},
   "outputs": [],
   "source": [
    "model = load_model(\"CNNsingle.h5\")"
   ]
  },
  {
   "cell_type": "code",
   "execution_count": 4,
   "metadata": {},
   "outputs": [
    {
     "name": "stdout",
     "output_type": "stream",
     "text": [
      "Model: \"sequential_1\"\n",
      "_________________________________________________________________\n",
      "Layer (type)                 Output Shape              Param #   \n",
      "=================================================================\n",
      "conv2d_1 (Conv2D)            (None, 19, 19, 10)        190       \n",
      "_________________________________________________________________\n",
      "conv2d_2 (Conv2D)            (None, 17, 17, 5)         455       \n",
      "_________________________________________________________________\n",
      "max_pooling2d_1 (MaxPooling2 (None, 5, 5, 5)           0         \n",
      "_________________________________________________________________\n",
      "dropout_1 (Dropout)          (None, 5, 5, 5)           0         \n",
      "_________________________________________________________________\n",
      "conv2d_3 (Conv2D)            (None, 3, 3, 3)           138       \n",
      "_________________________________________________________________\n",
      "max_pooling2d_2 (MaxPooling2 (None, 1, 1, 3)           0         \n",
      "_________________________________________________________________\n",
      "flatten_1 (Flatten)          (None, 3)                 0         \n",
      "_________________________________________________________________\n",
      "dense_1 (Dense)              (None, 10)                40        \n",
      "_________________________________________________________________\n",
      "dropout_2 (Dropout)          (None, 10)                0         \n",
      "_________________________________________________________________\n",
      "dense_2 (Dense)              (None, 50)                550       \n",
      "_________________________________________________________________\n",
      "dropout_3 (Dropout)          (None, 50)                0         \n",
      "_________________________________________________________________\n",
      "dense_3 (Dense)              (None, 2)                 102       \n",
      "=================================================================\n",
      "Total params: 1,475\n",
      "Trainable params: 1,475\n",
      "Non-trainable params: 0\n",
      "_________________________________________________________________\n"
     ]
    }
   ],
   "source": [
    "model.summary()"
   ]
  },
  {
   "cell_type": "markdown",
   "metadata": {},
   "source": [
    "DOWNLOADING DATA"
   ]
  },
  {
   "cell_type": "code",
   "execution_count": 5,
   "metadata": {},
   "outputs": [],
   "source": [
    "data_galaxy = np.load('datasets/galaxy_ic4559_images_scaled.npy')\n",
    "labels_galaxy = np.load('datasets/galaxy_ic4559_labels_scaled.npy')"
   ]
  },
  {
   "cell_type": "markdown",
   "metadata": {},
   "source": [
    "PREDICTION"
   ]
  },
  {
   "cell_type": "code",
   "execution_count": 6,
   "metadata": {},
   "outputs": [],
   "source": [
    "labels_predict = model.predict(data_galaxy)"
   ]
  },
  {
   "cell_type": "code",
   "execution_count": 7,
   "metadata": {},
   "outputs": [],
   "source": [
    "labels_predict2 = np.argmax(labels_predict, axis=-1)"
   ]
  },
  {
   "cell_type": "code",
   "execution_count": 8,
   "metadata": {},
   "outputs": [
    {
     "data": {
      "text/plain": [
       "0.9921875"
      ]
     },
     "execution_count": 8,
     "metadata": {},
     "output_type": "execute_result"
    }
   ],
   "source": [
    "accuracy_score(labels_galaxy, labels_predict2)"
   ]
  },
  {
   "cell_type": "code",
   "execution_count": 9,
   "metadata": {},
   "outputs": [
    {
     "data": {
      "text/plain": [
       "array([[315,   5],\n",
       "       [  0, 320]])"
      ]
     },
     "execution_count": 9,
     "metadata": {},
     "output_type": "execute_result"
    }
   ],
   "source": [
    "confusion_matrix(labels_galaxy, labels_predict2)"
   ]
  },
  {
   "cell_type": "code",
   "execution_count": 6,
   "metadata": {},
   "outputs": [],
   "source": [
    "def prediction (data, labels):\n",
    "    labels_predict = model.predict(data)\n",
    "    labels_predict2 = np.argmax(labels_predict, axis=-1)\n",
    "    \n",
    "    metrics = []\n",
    "    \n",
    "    metrics.append(accuracy_score(labels, labels_predict2))\n",
    "    metrics.append(precision_score(labels, labels_predict2))\n",
    "    metrics.append(recall_score(labels, labels_predict2))\n",
    "    metrics.append(f1_score(labels, labels_predict2))\n",
    "    \n",
    "    acc = accuracy_score(labels, labels_predict2)\n",
    "    conf_mat = confusion_matrix(labels, labels_predict2)\n",
    "    \n",
    "    return metrics, conf_mat\n",
    "    "
   ]
  },
  {
   "cell_type": "code",
   "execution_count": 7,
   "metadata": {},
   "outputs": [
    {
     "name": "stdout",
     "output_type": "stream",
     "text": [
      "[[ 95 315]\n",
      " [  1 409]] [0.6146341463414634, 0.5649171270718232, 0.9975609756097561, 0.7213403880070546]\n"
     ]
    }
   ],
   "source": [
    "data_galaxy_pgc21577_nonscaled = np.load('datasets/galaxy_pgc21577_images.npy')\n",
    "labels_galaxy_pgc21577 = np.load('datasets/galaxy_pgc21577_labels_scaled.npy')\n",
    "accuracy2, matrix2 = prediction(data_galaxy_pgc21577_nonscaled, labels_galaxy_pgc21577)\n",
    "print(matrix2,accuracy2)"
   ]
  },
  {
   "cell_type": "code",
   "execution_count": 8,
   "metadata": {},
   "outputs": [
    {
     "name": "stdout",
     "output_type": "stream",
     "text": [
      "[[ 90 256]\n",
      " [  1 345]] [0.6286127167630058, 0.5740432612312812, 0.9971098265895953, 0.7286166842661035]\n"
     ]
    }
   ],
   "source": [
    "data_galaxy_pgc21708 = np.load('datasets/galaxy_pgc21708_images.npy')\n",
    "labels_galaxy_pgc21708 = np.load('datasets/galaxy_pgc21708_labels_scaled.npy')\n",
    "accuracy3, matrix3 = prediction(data_galaxy_pgc21708, labels_galaxy_pgc21708)\n",
    "print(matrix3,accuracy3)"
   ]
  },
  {
   "cell_type": "code",
   "execution_count": 9,
   "metadata": {},
   "outputs": [
    {
     "name": "stdout",
     "output_type": "stream",
     "text": [
      "[[ 71 257]\n",
      " [  1 327]] [0.6067073170731707, 0.559931506849315, 0.9969512195121951, 0.7171052631578947]\n"
     ]
    }
   ],
   "source": [
    "data_galaxy_pgc21747 = np.load('datasets/galaxy_pgc21747_images.npy')\n",
    "labels_galaxy_pgc21747 = np.load('datasets/galaxy_pgc21747_labels_scaled.npy')\n",
    "accuracy4, matrix4 = prediction(data_galaxy_pgc21747, labels_galaxy_pgc21747)\n",
    "print(matrix4, accuracy4)"
   ]
  },
  {
   "cell_type": "code",
   "execution_count": 10,
   "metadata": {},
   "outputs": [
    {
     "name": "stdout",
     "output_type": "stream",
     "text": [
      "[[ 94 187]\n",
      " [  0 281]] [0.6672597864768683, 0.6004273504273504, 1.0, 0.7503337783711614]\n"
     ]
    }
   ],
   "source": [
    "data_galaxy_pgc21856 = np.load('datasets/galaxy_pgc21856_images.npy')\n",
    "labels_galaxy_pgc21856 = np.load('datasets/galaxy_pgc21856_labels_scaled.npy')\n",
    "accuracy5, matrix5 = prediction(data_galaxy_pgc21856, labels_galaxy_pgc21856)\n",
    "print(matrix5, accuracy5)"
   ]
  },
  {
   "cell_type": "code",
   "execution_count": null,
   "metadata": {},
   "outputs": [],
   "source": []
  },
  {
   "cell_type": "code",
   "execution_count": null,
   "metadata": {},
   "outputs": [],
   "source": []
  },
  {
   "cell_type": "code",
   "execution_count": 15,
   "metadata": {},
   "outputs": [
    {
     "name": "stdout",
     "output_type": "stream",
     "text": [
      "[[315   5]\n",
      " [  0 320]] 0.9921875\n"
     ]
    }
   ],
   "source": [
    "accuracy, matrix = prediction(data_galaxy, labels_galaxy)\n",
    "print(matrix,accuracy)\n"
   ]
  },
  {
   "cell_type": "code",
   "execution_count": 11,
   "metadata": {},
   "outputs": [
    {
     "name": "stdout",
     "output_type": "stream",
     "text": [
      "[[405   5]\n",
      " [  2 408]] [0.9914634146341463, 0.9878934624697336, 0.9951219512195122, 0.9914945321992709]\n"
     ]
    }
   ],
   "source": [
    "data_galaxy_pgc21577 = np.load('datasets/galaxy_pgc21577_images_scaled.npy')\n",
    "labels_galaxy_pgc21577 = np.load('datasets/galaxy_pgc21577_labels_scaled.npy')\n",
    "accuracy2, matrix2 = prediction(data_galaxy_pgc21577, labels_galaxy_pgc21577)\n",
    "print(matrix2,accuracy2)\n"
   ]
  },
  {
   "cell_type": "code",
   "execution_count": 12,
   "metadata": {},
   "outputs": [
    {
     "name": "stdout",
     "output_type": "stream",
     "text": [
      "[[339   7]\n",
      " [  3 343]] [0.9855491329479769, 0.98, 0.9913294797687862, 0.985632183908046]\n"
     ]
    }
   ],
   "source": [
    "data_galaxy_pgc21708 = np.load('datasets/galaxy_pgc21708_images_scaled.npy')\n",
    "labels_galaxy_pgc21708 = np.load('datasets/galaxy_pgc21708_labels_scaled.npy')\n",
    "accuracy3, matrix3 = prediction(data_galaxy_pgc21708, labels_galaxy_pgc21708)\n",
    "print(matrix3,accuracy3)"
   ]
  },
  {
   "cell_type": "code",
   "execution_count": 13,
   "metadata": {},
   "outputs": [
    {
     "name": "stdout",
     "output_type": "stream",
     "text": [
      "[[317  11]\n",
      " [  1 327]] [0.9817073170731707, 0.9674556213017751, 0.9969512195121951, 0.9819819819819819]\n"
     ]
    }
   ],
   "source": [
    "data_galaxy_pgc21747 = np.load('datasets/galaxy_pgc21747_images_scaled.npy')\n",
    "labels_galaxy_pgc21747 = np.load('datasets/galaxy_pgc21747_labels_scaled.npy')\n",
    "accuracy4, matrix4 = prediction(data_galaxy_pgc21747, labels_galaxy_pgc21747)\n",
    "print(matrix4, accuracy4)"
   ]
  },
  {
   "cell_type": "code",
   "execution_count": 14,
   "metadata": {},
   "outputs": [
    {
     "name": "stdout",
     "output_type": "stream",
     "text": [
      "[[277   4]\n",
      " [  0 281]] [0.9928825622775801, 0.9859649122807017, 1.0, 0.9929328621908127]\n"
     ]
    }
   ],
   "source": [
    "data_galaxy_pgc21856 = np.load('datasets/galaxy_pgc21856_images_scaled.npy')\n",
    "labels_galaxy_pgc21856 = np.load('datasets/galaxy_pgc21856_labels_scaled.npy')\n",
    "accuracy5, matrix5 = prediction(data_galaxy_pgc21856, labels_galaxy_pgc21856)\n",
    "print(matrix5, accuracy5)"
   ]
  },
  {
   "cell_type": "code",
   "execution_count": null,
   "metadata": {},
   "outputs": [],
   "source": []
  },
  {
   "cell_type": "code",
   "execution_count": 15,
   "metadata": {},
   "outputs": [],
   "source": [
    "def merging_datasets(d1,l1,d2,l2,d3,l3,d4,l4,d5,l5):\n",
    "    \n",
    "           \n",
    "    dataset = np.append(d1,d2, axis=0)\n",
    "    dataset2 = np.append(dataset,d3, axis=0)\n",
    "    dataset3 = np.append(dataset2,d4, axis=0)\n",
    "    dataset4 = np.append(dataset3,d5, axis=0)\n",
    "\n",
    "    labels = np.append(l1,l2, axis=0)\n",
    "    labels2 = np.append(labels,l3, axis=0)\n",
    "    labels3 = np.append(labels2,l4, axis=0)\n",
    "    labels4 = np.append(labels3,l5, axis=0)\n",
    "    \n",
    "    \n",
    "    return dataset4, labels4"
   ]
  },
  {
   "cell_type": "code",
   "execution_count": 16,
   "metadata": {},
   "outputs": [],
   "source": [
    "data, lab = merging_datasets(data_galaxy, labels_galaxy, data_galaxy_pgc21577, labels_galaxy_pgc21577, data_galaxy_pgc21708, labels_galaxy_pgc21708, data_galaxy_pgc21747, labels_galaxy_pgc21747, data_galaxy_pgc21856, labels_galaxy_pgc21856)"
   ]
  },
  {
   "cell_type": "code",
   "execution_count": 15,
   "metadata": {},
   "outputs": [
    {
     "name": "stdout",
     "output_type": "stream",
     "text": [
      "([0.9887240356083086, 0.9812974868497955, 0.9964391691394658, 0.9888103651354535], array([[1653,   32],\n",
      "       [   6, 1679]]))\n"
     ]
    }
   ],
   "source": [
    "print(prediction(data, lab))"
   ]
  },
  {
   "cell_type": "code",
   "execution_count": 17,
   "metadata": {},
   "outputs": [],
   "source": [
    "labels_predict = model.predict(data)\n",
    "labels_predict2 = np.argmax(labels_predict, axis=-1)"
   ]
  },
  {
   "cell_type": "code",
   "execution_count": 25,
   "metadata": {},
   "outputs": [
    {
     "name": "stdout",
     "output_type": "stream",
     "text": [
      "0\n",
      "0.0\n",
      "37\n",
      "0.0\n",
      "145\n",
      "0.0\n",
      "244\n",
      "0.0\n",
      "318\n",
      "0.0\n",
      "641\n",
      "0.0\n",
      "722\n",
      "0.0\n",
      "912\n",
      "0.0\n",
      "973\n",
      "0.0\n",
      "976\n",
      "0.0\n",
      "1298\n",
      "1.0\n",
      "1386\n",
      "1.0\n",
      "1491\n",
      "0.0\n",
      "1532\n",
      "0.0\n",
      "1571\n",
      "0.0\n",
      "1572\n",
      "0.0\n",
      "1640\n",
      "0.0\n",
      "1788\n",
      "0.0\n",
      "1804\n",
      "0.0\n",
      "1829\n",
      "1.0\n",
      "1952\n",
      "1.0\n",
      "2141\n",
      "1.0\n",
      "2156\n",
      "0.0\n",
      "2157\n",
      "0.0\n",
      "2159\n",
      "0.0\n",
      "2166\n",
      "0.0\n",
      "2172\n",
      "0.0\n",
      "2200\n",
      "0.0\n",
      "2209\n",
      "0.0\n",
      "2228\n",
      "0.0\n",
      "2371\n",
      "0.0\n",
      "2417\n",
      "0.0\n",
      "2436\n",
      "0.0\n",
      "2492\n",
      "1.0\n",
      "2895\n",
      "0.0\n",
      "2904\n",
      "0.0\n",
      "2973\n",
      "0.0\n",
      "3008\n",
      "0.0\n"
     ]
    }
   ],
   "source": [
    "for i in range(len(lab)):\n",
    "    if lab[i]!=labels_predict2[i]:\n",
    "        print(i)\n",
    "        print(lab[i])"
   ]
  },
  {
   "cell_type": "code",
   "execution_count": 29,
   "metadata": {},
   "outputs": [
    {
     "data": {
      "image/png": "[encoded data removed]",
      "text/plain": [
       "<Figure size 720x216 with 4 Axes>"
      ]
     },
     "metadata": {
      "needs_background": "light"
     },
     "output_type": "display_data"
    }
   ],
   "source": [
    "f = plt.figure(figsize=(10,3))\n",
    "ax = f.add_subplot(121)\n",
    "ax2 = f.add_subplot(122)    \n",
    "fig_1 = ax.imshow(data[2141,:,:,0], cmap='gray')\n",
    "fig_2 = ax2.imshow(data[2141,:,:,1], cmap='gray')\n",
    "\n",
    "f.colorbar(fig_1, ax=ax)\n",
    "f.colorbar(fig_2, ax=ax2)\n",
    "\n",
    "plt.savefig('pictures/CNNerror3.png')"
   ]
  },
  {
   "cell_type": "code",
   "execution_count": 27,
   "metadata": {},
   "outputs": [
    {
     "data": {
      "text/plain": [
       "1.0"
      ]
     },
     "execution_count": 27,
     "metadata": {},
     "output_type": "execute_result"
    }
   ],
   "source": [
    "lab[1386]"
   ]
  },
  {
   "cell_type": "code",
   "execution_count": null,
   "metadata": {},
   "outputs": [],
   "source": []
  }
 ],
 "metadata": {
  "kernelspec": {
   "display_name": "Python 3",
   "language": "python",
   "name": "python3"
  },
  "language_info": {
   "codemirror_mode": {
    "name": "ipython",
    "version": 3
   },
   "file_extension": ".py",
   "mimetype": "text/x-python",
   "name": "python",
   "nbconvert_exporter": "python",
   "pygments_lexer": "ipython3",
   "version": "3.7.3"
  }
 },
 "nbformat": 4,
 "nbformat_minor": 2
}
